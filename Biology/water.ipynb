{
 "cells": [
  {
   "cell_type": "markdown",
   "metadata": {},
   "source": [
    "# Water Quality Testing\n",
    "\n",
    "In this worksheet you will learn how water quality thresholds work, how microbes can grow in water, and how we can use population modelling to predict the environmental imact of a pollution incident "
   ]
  },
  {
   "cell_type": "code",
   "execution_count": null,
   "metadata": {},
   "outputs": [],
   "source": [
    "import math # code given to students \n",
    "import pandas as pd \n",
    "import numpy as np\n",
    "import matplotlib.pyplot as plt\n",
    "%matplotlib inline \n",
    "\n",
    "water = pd.read_csv('water.csv')\n",
    "test_site = water['Test site'].values.tolist() \n",
    "ammonia_data = water['Nitrate concentration (mg/l) '].values.tolist()\n",
    "BOD_data = water['BOD (mg/l O2 )'].values.tolist()"
   ]
  },
  {
   "cell_type": "markdown",
   "metadata": {},
   "source": [
    "## Part 1: Water Quality Thresholds. \n",
    "\n",
    "Using a for loop, print all the numbers between one inputted number and another (for example, between 1-10) \n",
    "Give this range of numbers a variable. "
   ]
  },
  {
   "cell_type": "code",
   "execution_count": null,
   "metadata": {},
   "outputs": [],
   "source": [
    "n1 = int(input(\"Give starting number: \"))\n",
    "n2 = int(input(\"Give ending number: \"))\n",
    "\n",
    "for x in range(n1,n2+1):\n",
    "     print(x) \n",
    "        \n",
    "x = range(n1,n2)"
   ]
  },
  {
   "cell_type": "markdown",
   "metadata": {},
   "source": [
    "Create another range \"y\" between two more inputted values. \n",
    "Now define a function **test_range(n)** which checks each number in x to see if they are within y. For each number, print a message stating if it is in the range or outside the range. "
   ]
  },
  {
   "cell_type": "code",
   "execution_count": null,
   "metadata": {},
   "outputs": [],
   "source": [
    "n1 = int(input(\"Give starting number: \"))\n",
    "n2 = int(input(\"Give ending number: \"))\n",
    "n3 = int(input(\"parameter start\"))\n",
    "n4 = int(input(\"parameter end\"))\n",
    "\n",
    "x = range(n1,n2)\n",
    "y = range(n3,n4)\n",
    "\n",
    "def test_range(n):\n",
    "        if n in y:\n",
    "            print( \" %s is in the range\"%str(n))\n",
    "        else :\n",
    "             print( \" %s is outside the range\"%str(n))\n",
    "for i in x:\n",
    "    test_range(i)"
   ]
  },
  {
   "cell_type": "markdown",
   "metadata": {},
   "source": [
    "The Irish Government tests water bodies for various indicators of pollution to determine if action needs to be taken to prevent environmental damage or danger to the public. High levels of ammonia can lead to fish kill and can harm humans if ingested via drinking water. \n",
    "There are three classifications for water bodies: High status, Good status, or Poor. \n",
    "The classification is found by seeing which parameters the amount of mg/L of a pollutant falls within. \n",
    "\n",
    "Below are the parameters for Ammonia, taken from *European Communities Environmental Objectives (Surface Waters) Regulations 2009*. <br> \n",
    "Note: any value beyond \"Good status\" is assumed to be Poor. Poor status water is unsafe to drink. \n",
    "\n",
    "----------------------------------------\n",
    "#### Total Ammonia (mg/L):\n",
    "----------------------------------------\n",
    "High status $\\leqslant$0.040  <br>\n",
    "Good status $\\leqslant$0.065 \n",
    "\n",
    "------------------------------------------\n",
    "The string \"ammonia_data\" has already been loaded for you. This string contains data from 100 test sites along a river. \n",
    "\n",
    "Define a new function **test_range2(n)** which works similarly to the last function, but now has three conditions (one for High, Good, and Poor). We want to automatically attribute one of these three values to each datapoint. "
   ]
  },
  {
   "cell_type": "code",
   "execution_count": null,
   "metadata": {},
   "outputs": [],
   "source": [
    "n5 = float(input(\"High status max value\")) # 0.04\n",
    "n6 = float(input(\"Good status max value\"))   #0.065\n",
    "\n",
    "def test_range2(n):\n",
    "        if 0 < n < n5  :\n",
    "            print( \" %s is of High status\"%str(n))\n",
    "        elif n5 < n < n6 :\n",
    "            print( \" %s is of Good status\"%str(n))\n",
    "        elif  n6 < n:  \n",
    "                print( \" %s is of Poor status\"%str(n))\n",
    "for i in ammonia_data:\n",
    "    test_range2(i)"
   ]
  },
  {
   "cell_type": "markdown",
   "metadata": {},
   "source": [
    "Your function can be used now for any pollutant, not just ammonia. You can simply input the two regulatory parameters and you can test any sample data for their status. \n",
    "\n",
    "Now, let's find out exactly how many values in our data got a High, Good, or Poor status. "
   ]
  },
  {
   "cell_type": "code",
   "execution_count": null,
   "metadata": {
    "scrolled": true
   },
   "outputs": [],
   "source": [
    "print(sum(float(num) <= 0.04 for num in ammonia_data))          # High \n",
    "print(sum(0.065 > float(num) > 0.04 for num in ammonia_data))   # Good\n",
    "print(sum(float(num) >= 0.065 for num in ammonia_data))         # Poor"
   ]
  },
  {
   "cell_type": "markdown",
   "metadata": {},
   "source": [
    "What percentage of sampled sites are safe to drink from? "
   ]
  },
  {
   "cell_type": "code",
   "execution_count": null,
   "metadata": {},
   "outputs": [],
   "source": [
    "j=(sum(0.065 > float(num) > 0.04 for num in ammonia_data))\n",
    "k=(sum(float(num) <= 0.04 for num in ammonia_data)) \n",
    "print(j+k,\"% of sampled sites are safe for drinking\")"
   ]
  },
  {
   "cell_type": "markdown",
   "metadata": {},
   "source": [
    "## Part 2: Bacterial Growth. \n",
    "\n",
    "\n",
    "Bacteria can be found in water from rivers, lakes, fountains, and municipal drinking water. Mostly, this bacteria is harmless, but there are some species of bacteria, such as *Escherichia coli* (E. coli) which make water unsafe even if found in the tiniest amounts. \n",
    "\n",
    "Rivers can sometimes be polluted by organic compounds such as nitrogen or phosphate (sometimes due to farming activities near rivers). Large increases in such nutrients can cause algae and cyanobacteria to experience rapid growth or \"blooms\". <br>\n",
    "An algal bloom is devastating for a river as it can:\n",
    "* block the light penetration leading to death of plant matter below it\n",
    "* create toxic compounds making the river unsafe to swim in for humans and animals\n",
    "* make fish caught in the river dangerous for human consumption \n",
    "\n",
    "In this section we are interested in analysing how bacteria grow in a river. "
   ]
  },
  {
   "cell_type": "markdown",
   "metadata": {},
   "source": [
    "Let's make a quick simple model:\n",
    "\n",
    "$$\\LARGE{N = N_0\\times 2^{\\frac{t}{2}}}$$\n",
    "\n",
    "* $N$ is the bacteria count (we count bacteria in Colony Forming Units or 'CFUs') \n",
    "* $N_0$ is our initial bacteria count (at time = 0)\n",
    "* $t$ is our time in minutes\n",
    "\n",
    "Input this equation below, and ask the user to input values for $N_0$ and $t$ <br>\n",
    "Print the number of bacteria CFUs after 't' minutes:"
   ]
  },
  {
   "cell_type": "code",
   "execution_count": null,
   "metadata": {
    "scrolled": false
   },
   "outputs": [],
   "source": [
    "N0 = int(input('Initial CFU count: '))\n",
    "t = int(input('time (minutes)? '))\n",
    "N = N0 * 2 **(t/2)\n",
    "print ('After',t,'minutes we would have',N,'CFUs')"
   ]
  },
  {
   "cell_type": "markdown",
   "metadata": {},
   "source": [
    "We can see now that bacteria growth can be predicted using maths, but for the model to be more realistic, we'll have to make the equations more complex. \n",
    "The following equation will also exponentially increase the population, but the growth-rate will gradually slow as it reaches a maximum growth value. \n",
    "\n",
    "**Gompertz curve:**\n",
    "$$\\LARGE{N = N_0\\times e^{ln\\left({\\frac{k}{N_0}}\\right)\\times {(1-e^{-b})}}}$$\n",
    "\n",
    "Where:\n",
    "* $N$ is the bacteria count\n",
    "* $N_O$ is the initial count\n",
    "* $k$ is the maximum population growth (around where the curve will flatten out)\n",
    "* $t$ is time\n",
    "* $b$ is just a constant (it is an \"empirical parameter\" meaning it was derived from experimentation and has no unit) \n",
    "\n",
    "To model the equation, you first need to define your constants. \n",
    "Create values for a maximum and minimum time to run the simulation, as well as a time-step. Set your minimum time to 0, and the time-step to 0.1. \n",
    "\n",
    "You will also need to create an initial value for $N$ equal to 100. <br>\n",
    "Set $k$ = 20000 (this will be the maximum CFU count for our colony) <br>\n",
    "Set $b$ = 0.01"
   ]
  },
  {
   "cell_type": "code",
   "execution_count": null,
   "metadata": {},
   "outputs": [],
   "source": [
    "max_time = 20\n",
    "dt=0.1\n",
    "t = 0\n",
    "\n",
    "N = 100\n",
    "k=20000\n",
    "b=0.01"
   ]
  },
  {
   "cell_type": "markdown",
   "metadata": {},
   "source": [
    "Next, define two empty lists, one for time, and one for bacteria count. These lists will be filled with values as your equation is used to calculate every CFU value between time 0 and your max_time. "
   ]
  },
  {
   "cell_type": "code",
   "execution_count": null,
   "metadata": {},
   "outputs": [],
   "source": [
    "tL = []  \n",
    "bactL = []"
   ]
  },
  {
   "cell_type": "markdown",
   "metadata": {},
   "source": [
    "Now, under the condition that $t$ is less than max_time, input your equation and append the two lists with values for $t$ and $N$. <br>\n",
    "Hint: you need two equations, one is the Gompertz curve above so that you can find new values for N, and the other is for time so that you can find new values for $t$ as your time-step is added with each iteration of the equation. "
   ]
  },
  {
   "cell_type": "code",
   "execution_count": null,
   "metadata": {},
   "outputs": [],
   "source": [
    "while t <= max_time:\n",
    "\n",
    "    t = t + dt      \n",
    "    N = N*math.exp(math.log(k/N)*(1-math.exp(-b*t)))\n",
    "\n",
    "   \n",
    "    tL.append(t)\n",
    "    bactL.append(N)"
   ]
  },
  {
   "cell_type": "markdown",
   "metadata": {},
   "source": [
    "Plot your values for bacteria growth vs time "
   ]
  },
  {
   "cell_type": "code",
   "execution_count": null,
   "metadata": {},
   "outputs": [],
   "source": [
    "plt.plot(tL, bactL, 'b', lw = 2.5, linestyle='solid', )\n",
    "\n",
    "plt.title('Bacteria growth curve')\n",
    "plt.xlabel('Time (days)')\n",
    "plt.ylabel(\"Bacteria Colony Forming Units (CFUs)\")\n",
    "\n",
    "plt.show()"
   ]
  },
  {
   "cell_type": "markdown",
   "metadata": {},
   "source": [
    "Let's analyse our results!\n",
    "What is the highest number of bacteria CFUs counted during the simulation?"
   ]
  },
  {
   "cell_type": "code",
   "execution_count": null,
   "metadata": {
    "scrolled": true
   },
   "outputs": [],
   "source": [
    "max(bactL)"
   ]
  },
  {
   "cell_type": "markdown",
   "metadata": {},
   "source": [
    "We want to know at which exact time the bacteria were halfway to their maximum growth (from the graph it looks to be around day 6) \n",
    "This requires three steps:\n",
    "\n",
    "1. Define the halfway point between 0 and the max growth\n",
    "2. Define a variable which is equal to whichever point in our data is to the **closest value to that halfway point**\n",
    "3. Search through the list using [list].(index) to find how far down our datasheet the value is. (Remember that each datapoint in our list is 0.1 units of time apart since $dt=0.1$)\n",
    "\n",
    "To help you with step 2, look at the code below. <br>\n",
    "The list contains some random numbers from 1-100. We want the closest value to \"Number\"=57 that is in our list. <br>\n"
   ]
  },
  {
   "cell_type": "code",
   "execution_count": null,
   "metadata": {},
   "outputs": [],
   "source": [
    "List1 =[5, 100, 3, 44, 71]\n",
    "Number=57"
   ]
  },
  {
   "cell_type": "markdown",
   "metadata": {},
   "source": [
    "Now, we want to run through our small list and find the value **with the smallest difference from 57**\n",
    "to get minimum of List1 with respect to some condition (such as the difference between two numbers), we use: "
   ]
  },
  {
   "cell_type": "code",
   "execution_count": null,
   "metadata": {},
   "outputs": [],
   "source": [
    "min(List1, key=lambda x:abs(x-Number))"
   ]
  },
  {
   "cell_type": "markdown",
   "metadata": {},
   "source": [
    "Try changing \"Number\" to 58 and see what happens. Remember it's the smallest difference between the target number and *every* value in the list you're looking for. \n",
    "\n",
    "Now, with this knowledge, go ahead and complete steps 1 & 2, printing the Bacteria CFUs halfway point **and** the number in our list that is closest to that value. "
   ]
  },
  {
   "cell_type": "code",
   "execution_count": null,
   "metadata": {},
   "outputs": [],
   "source": [
    "Half = max(bactL)/2\n",
    "closest= min(bactL, key=lambda x:abs(x-Half))\n",
    "print(Half)\n",
    "print(closest)"
   ]
  },
  {
   "cell_type": "markdown",
   "metadata": {},
   "source": [
    "Lastly, find which time this value occurred at. "
   ]
  },
  {
   "cell_type": "code",
   "execution_count": null,
   "metadata": {},
   "outputs": [],
   "source": [
    "Half_day = bactL.index(closest)*dt\n",
    "print(\"at\",Half_day,\"days the bacteria count was at\", closest,\"CFUs\")"
   ]
  },
  {
   "cell_type": "markdown",
   "metadata": {},
   "source": [
    "Plot your curve again, but include a vertical line at the halfway growth point. "
   ]
  },
  {
   "cell_type": "code",
   "execution_count": null,
   "metadata": {
    "scrolled": false
   },
   "outputs": [],
   "source": [
    "plt.plot(tL, bactL, 'b', lw = 2.5, linestyle='solid', )\n",
    "\n",
    "plt.title('Bacteria growth curve')\n",
    "plt.xlabel('Time (days)')\n",
    "plt.ylabel(\"Bacteria Colony Forming Units (CFUs)\")\n",
    "plt.axvline(x=Half_day, ymin=0, ymax=1, label = \"Halfway growth point\")\n",
    "\n",
    "plt.legend(loc=\"center right\")\n",
    "plt.show()\n"
   ]
  },
  {
   "cell_type": "markdown",
   "metadata": {},
   "source": [
    "Finally, let's add a condition to our model. <br>\n",
    "At time = 5 days, the pH of the bacteria's environment becomes unfavourable, and their carrying capacity (k) shrinks from 20,000 to just 10,000. \n",
    "Paste your model below, but add one extra variable to your equation: \n",
    "$$\\LARGE{N = N_0\\times e^{ln\\left({\\frac{k\\times {{\\color{red}{b(t)}}}}{N_0}}\\right)\\times {(1-e^{-b})}}}$$\n",
    "\n",
    "where $b(t)$ is a function that returns the value 1 if $t$ is before 5 days and returns 0.5 for any day after that. This effectively halves the carrying capacity but only *after* 5 days of growth has occurred.  "
   ]
  },
  {
   "cell_type": "code",
   "execution_count": null,
   "metadata": {},
   "outputs": [],
   "source": [
    "max_time = 20\n",
    "dt=0.1\n",
    "t = 0\n",
    "\n",
    "N = 100\n",
    "k=20000\n",
    "b=0.01\n",
    "\n",
    "tL = []  \n",
    "bactL = []\n",
    "\n",
    "L1 = 5\n",
    "\n",
    "def f(t):\n",
    "    return 0.5 if L1<t else 1\n",
    "\n",
    "while t <= max_time:\n",
    "\n",
    "    t = t + dt      \n",
    "    N = N*math.exp(math.log((k*f(t))/N)*(1-math.exp(-b*t)))\n",
    "\n",
    "   \n",
    "    tL.append(t)\n",
    "    bactL.append(N)\n",
    "    \n",
    "plt.plot(tL, bactL, 'b', lw = 2.5, linestyle='solid', )\n",
    "\n",
    "plt.title('Bacteria growth curve')\n",
    "plt.xlabel('Time (days)')\n",
    "plt.ylabel(\"Bacteria Colony Forming Units (CFUs)\")\n",
    "\n",
    "plt.show()"
   ]
  },
  {
   "cell_type": "markdown",
   "metadata": {},
   "source": [
    "## Part 3: Finding a Source of Pollution \n",
    "\n",
    "Rivers can be polluted in a variety of ways. Sometimes industrial chemicals can be washed by rain across a broad area and seep into the river along a long section of the bank. This is known as nonpoint-source pollution. Harmful chemicals can also be inserted into the waterflow from a single point, such as a burst pipe). <br>\n",
    "In this section, we will again look at our datasheet: \"water.csv\" which has been loaded in already. The distance between test sites in this sheet is approximately 20 metres.\n",
    "<br>\n",
    "In our dataset, we also have a column \"BOD_data\" which counts the amount of oxygen per litre being used up in the water. High levels of BOD are an indicator of organic pollution since algae growth (stimulated by the nitrogen) will consume oxygen. \n",
    "<br>\n",
    "Plot a graph of both the nitrogen levels & BOD versus time. On this graph, include a vertical line at the maximum value for both nitrogen & BOD. "
   ]
  },
  {
   "cell_type": "code",
   "execution_count": null,
   "metadata": {
    "scrolled": true
   },
   "outputs": [],
   "source": [
    "plt.scatter(test_site, ammonia_data ,label=\"Nitrogen\",s=20,marker=\"^\")\n",
    "plt.scatter(test_site, BOD_data,  label=\"BOD\",s=20)\n",
    "\n",
    "m1 = BOD_data.index(max(BOD_data))\n",
    "m2 = ammonia_data.index(max(ammonia_data))\n",
    "\n",
    "plt.title('Pollutants along river test sites')\n",
    "plt.xlabel(\"test site\")\n",
    "plt.ylabel(\"concentration (mg/l)\")\n",
    "plt.axvline(x=m1, ymin=0, ymax=1, label = \"max BOD\", color=\"y\")\n",
    "plt.axvline(x=m2, ymin=0, ymax=1, label = \"max Nitrogen\", color=\"r\")\n",
    "\n",
    "plt.legend(loc=\"upper right\")\n",
    "plt.show()"
   ]
  },
  {
   "cell_type": "markdown",
   "metadata": {},
   "source": [
    "In this situation, is the BOD responding to the nitrogen increase or is the nitrogen responding to the BOD increase?"
   ]
  },
  {
   "cell_type": "code",
   "execution_count": null,
   "metadata": {},
   "outputs": [],
   "source": [
    "# BOD to nitrogen "
   ]
  },
  {
   "cell_type": "markdown",
   "metadata": {},
   "source": [
    "Based off the graph it is clear that the organic pollution is coming from a point-source. If it was a nonpoint-source, what shape would you say the graph would make? "
   ]
  },
  {
   "cell_type": "code",
   "execution_count": null,
   "metadata": {},
   "outputs": [],
   "source": [
    "# More gradual increase/decrease with a larger plateau "
   ]
  },
  {
   "cell_type": "markdown",
   "metadata": {},
   "source": [
    "## Part 4: Practical\n",
    "\n",
    "We have identified the source of pollution to be between test site 30 and 31. A burst pipe was found and Farmer Joe is to blame. <br>\n",
    "Algae has started to become visible along the banks of the river downstream of the rupture. Tests are conducted to see what species of algae are present and in what numbers. <br>\n",
    "In this final section, we conduct a damage assessment of the waterbody. \n",
    "\n",
    "\n",
    "---------------------------------------------------------------------------\n",
    "Two types of cyanobacteria were found: \n",
    "<br>\n",
    "\n",
    "1. Nostoc sphaeroides:\n",
    "   * initial biovolume per millilitre (µm3/mL): 2\n",
    "   * maximum biovolume possible in these conditions (µm3/mL): 2.5\n",
    "   * Unacceptable biovolume level (µm3/mL):  2.35\n",
    "   \n",
    "\n",
    "\n",
    "2. Microcystis aeruginosa:\n",
    "   * initial biovolume per millilitre (µm3/mL): 2\n",
    "   * maximum biovolume possible in these conditions (µm3/mL): 5.1\n",
    "   * Unacceptable biovolume level (µm3/mL):  4.92\n",
    "---------------------------------------------------------------------------\n",
    "\n",
    "On day 5, the pipe is fixed. Unfortunately this will only reduce the carrying capacity by 10%. \n",
    "Using the Gompertz curve from above, along with a conditional function that multiplies the carrying capacity by 1 before day 5 and 0.9 after, plot the growth of both species in the waterbody for the next 30 days. "
   ]
  },
  {
   "cell_type": "code",
   "execution_count": null,
   "metadata": {},
   "outputs": [],
   "source": [
    "max_time = 30\n",
    "dt=0.1\n",
    "t = 0\n",
    "\n",
    "N1 = 2\n",
    "N2 = 4\n",
    "k1=2.5\n",
    "k2=5.1\n",
    "b=0.002\n",
    "\n",
    "L1= 5 # lockdown day\n",
    "\n",
    "def r(t):\n",
    "    return 0.95 if L1<t else 1\n",
    "\n",
    "tL = []  \n",
    "NostL = []\n",
    "MicrL = []\n",
    "\n",
    "while t <= max_time:\n",
    "\n",
    "    t = t + dt      \n",
    "    N1 = N1*math.exp(math.log(k1*r(t)/N1)*(1-math.exp(-b*t)))\n",
    "    N2 = N2*math.exp(math.log(k2*r(t)/N2)*(1-math.exp(-b*t)))\n",
    "\n",
    "   \n",
    "    tL.append(t)\n",
    "    NostL.append(N1)\n",
    "    MicrL.append(N2)\n",
    "    \n",
    "plt.plot(tL, NostL, 'b',  lw = 1.5, linestyle='solid', label=\"Nostoc sphaeroides\" )\n",
    "plt.plot(tL, MicrL, \"r\" , lw = 1.5, linestyle='solid', label=\"Microcystis aeruginosa\")\n",
    "\n",
    "\n",
    "plt.title('Bacteria growth curve')\n",
    "plt.xlabel('Time (days)')\n",
    "plt.ylabel(\"Bacteria Colony Forming Units (CFUs)\")\n",
    "#plt.ayvline(y=max(NostL), xmin=0, xmax=1, label = \"max BOD\", color=\"y\")\n",
    "plt.axhline(y=2.35, xmin=0, xmax=30, label = \"max Nostoc sphaeroides\", color=\"b\", linestyle=\"--\")\n",
    "plt.axhline(y=4.92, xmin=0, xmax=30, label = \"max Microcystis aeruginosa\", color=\"r\", linestyle=\"--\")\n",
    "plt.legend(loc=(1.02,0.85))\n",
    "\n",
    "plt.show()"
   ]
  },
  {
   "cell_type": "markdown",
   "metadata": {},
   "source": [
    "Will either or both species of algae exceed the acceptable parameters after one month? "
   ]
  },
  {
   "cell_type": "code",
   "execution_count": null,
   "metadata": {},
   "outputs": [],
   "source": [
    "print(\"Maximum Microcystis aeruginosa:\",max(MicrL),\"(µm3/mL)\")\n",
    "print(\"Maximum Nostoc sphaeroides:\",max(NostL),\"(µm3/mL)\")"
   ]
  },
  {
   "cell_type": "code",
   "execution_count": null,
   "metadata": {},
   "outputs": [],
   "source": [
    "# Only the Nostoc sphaeroides will exceed the acceptable parameters. "
   ]
  }
 ],
 "metadata": {
  "kernelspec": {
   "display_name": "Python 3",
   "language": "python",
   "name": "python3"
  },
  "language_info": {
   "codemirror_mode": {
    "name": "ipython",
    "version": 3
   },
   "file_extension": ".py",
   "mimetype": "text/x-python",
   "name": "python",
   "nbconvert_exporter": "python",
   "pygments_lexer": "ipython3",
   "version": "3.7.4"
  }
 },
 "nbformat": 4,
 "nbformat_minor": 4
}
