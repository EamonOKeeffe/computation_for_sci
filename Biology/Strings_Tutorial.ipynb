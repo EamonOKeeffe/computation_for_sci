{
 "cells": [
  {
   "cell_type": "markdown",
   "metadata": {},
   "source": [
    "# Strings and DNA\n",
    "\n",
    "Strings are one of the most basic data types in coding. Strings are a sequence of characters, and they have many practical applications in the computational sciences. In this tutorial, we will learn how to manipulate strings, using a DNA sequence as an example.\n",
    "DNA is composed of four distinct bases: adenine, cytosine, guanine, and thymine. Generally, these bases are presented as single characters, A, C, G, and T, respectively. From the many combinations of these four letters, an organism's genetic code is produced. \n",
    "Here's an example sequence:\n",
    "\n",
    "AGGGCCCTTTT\n",
    "\n",
    "Store this sequence in the variable 'sequence' below. *Remember to add quotation marks \"\" around your sequence- this tells the program it is a string.* \n",
    "Print out 'sequence' to confirm you successfully stored your sequence."
   ]
  },
  {
   "cell_type": "code",
   "execution_count": null,
   "metadata": {},
   "outputs": [],
   "source": [
    "sequence = # Store your sequence here\n"
   ]
  },
  {
   "attachments": {
    "DNA%20dogma.jpg": {
     "image/jpeg": "[encoded data removed]"
    }
   },
   "cell_type": "markdown",
   "metadata": {},
   "source": [
    "#  Use replace() to create RNA from the Coding Strand\n",
    "DNA exists as a molecule with two strands. In general terms, only one of these strands will be important for making a protein. This is called the coding strand, and it produces the RNA molecule that is translated to form a protein.\n",
    "\n",
    "![DNA%20dogma.jpg](attachment:DNA%20dogma.jpg)\n",
    "\n",
    "Notice how the RNA is just the coding sequence, where the \"T\"s are replaced by \"U\"s? RNA uses a base called \"uracil\" instead of thymine. Imagine our sequence is the coding sequence of a gene- what would the RNA look like?\n",
    "\n",
    "We'd use a replace() function- this function manipulates a string by changing a character to another character.\n",
    "See this in action below:"
   ]
  },
  {
   "cell_type": "code",
   "execution_count": null,
   "metadata": {},
   "outputs": [],
   "source": [
    "sentence = \"This is a test.\" # Stored a string in the variable \"sentence\"\n",
    "new_sentence = sentence.replace(\"This\", \"That\") # Tell replace() what is being replaced and give it a new substring.\n",
    "print(new_sentence) # Look at how our sentence has changed"
   ]
  },
  {
   "cell_type": "markdown",
   "metadata": {},
   "source": [
    "Notice how we have \"sentence.\" before the replace() function. The function must know what it is acting on, so we tell it to act on the sentence variable.\n",
    "Now, try creating an RNA molecule from your sequence above (*Assume your sequence is the coding strand*). Store the RNA in a variable \"RNA\" and print it."
   ]
  },
  {
   "cell_type": "code",
   "execution_count": null,
   "metadata": {},
   "outputs": [],
   "source": []
  },
  {
   "cell_type": "markdown",
   "metadata": {},
   "source": [
    "# For Loops\n",
    "We've just printed out the full sequence. What if you wanted to perform a particular function on each nucleotide (*iterate* over them)? What if you wanted to only print out each individual letter? This means you would need to *loop* over each nucleotide in the sequence.\n",
    "Here, we present the for loop.\n",
    "An example is presented below."
   ]
  },
  {
   "cell_type": "code",
   "execution_count": null,
   "metadata": {},
   "outputs": [],
   "source": [
    "k = \"word\"\n",
    "for letter in k: # for every letter in \"word\"\n",
    "    print(letter) # print the letter"
   ]
  },
  {
   "cell_type": "markdown",
   "metadata": {},
   "source": [
    "Of course, it does not matter what we refer to the index (character) as- in this case, \"letter\" was used, but 'n', 'x', etc. can be used instead. \n",
    "Now, attempt to do the same for your \"sequence\" variable, printing out each individual nucleotide."
   ]
  },
  {
   "cell_type": "code",
   "execution_count": null,
   "metadata": {},
   "outputs": [],
   "source": []
  },
  {
   "cell_type": "markdown",
   "metadata": {},
   "source": [
    "## Making Multiple Replacements\n",
    "Suppose we wanted to change multiple characters in a string. Take this sequence for example:\n",
    "\n",
    "*AAAATTTT*\n",
    "\n",
    "Let's we wanted to replace \"T\" with \"A\" and \"A\" with \"T\", to read:\n",
    "\n",
    "*TTTTAAAA*\n",
    "\n",
    "However, the code below will not work:"
   ]
  },
  {
   "cell_type": "code",
   "execution_count": null,
   "metadata": {},
   "outputs": [],
   "source": [
    "seq1 = \"AAAATTTT\"\n",
    "seq2 = seq1.replace(\"A\", \"T\") # Replace A's with T's\n",
    "seq2 = seq2.replace(\"T\", \"A\") # Take output (seq2) of previous line and replace T's with A's\n",
    "print(seq2) "
   ]
  },
  {
   "cell_type": "markdown",
   "metadata": {},
   "source": [
    "We're trying to replace two things that exist in the string with one another. It seems impossible, but it can be solved with a for loop! **Study the code carefully below to understand how the for loop handles each sequence character**.At the end of each iteration of the loop, the \"new_sequence\" will be printed to show you the process.\n",
    "\n",
    "Notice how new_sequence is a blank string, and characters/nucelotides are being added to it- **two strings being added to one another is called concatenation**. After being concatenated, they are stored back into new_sequence, effectively \"updating\" the new_sequence variable. "
   ]
  },
  {
   "cell_type": "code",
   "execution_count": null,
   "metadata": {},
   "outputs": [],
   "source": [
    "new_sequence = '' # This is a blank string\n",
    "for n in seq1:\n",
    "    if n == 'A': # Check if the nucleotide 'n' is 'A'\n",
    "        new_sequence = new_sequence + \"T\" # If the nucleotide is 'A', let's add 'T' to the new_sequence string \n",
    "    if n == 'T': # Check if the nucleotide 'n' is 'T'\n",
    "        new_sequence = new_sequence + \"A\" # If the nucleotide is 'T', add 'A' to the new sequence string\n",
    "    print(new_sequence) # This is to show how the new_sequence is \"growing\" as the for loop continues\n",
    "print(new_sequence)"
   ]
  },
  {
   "cell_type": "markdown",
   "metadata": {},
   "source": [
    "## Creating the Complement/Template Strand\n",
    "As shown in the image at the beginning of this tutorial, the template strand actually interacts with protein machinery to produce RNA (a copy of the coding strand). DNA has a specific way of binding two strands together- \"A\" binds to \"T,\" and \"C\" binds to \"G\". These bases complement one another. \n",
    "Let's change our \"sequence\" string from the start to a template strand. You must replace all A's with T's, T's with A's, C's with G's, and G's with C's, like so:\n",
    "\n",
    "ACGTGTG<br>\n",
    "TGCACAC\n",
    "\n",
    "Store your template sequence in a variable, \"template\":"
   ]
  },
  {
   "cell_type": "code",
   "execution_count": null,
   "metadata": {},
   "outputs": [],
   "source": []
  },
  {
   "cell_type": "markdown",
   "metadata": {},
   "source": [
    "# Creating the Reverse Complement Strand\n",
    "DNA has direction when being read by protein machinery, just like words on a page are read from left to right. Reading in the wrong direction could produce an entirely different protein! \n",
    "This left-right direction is referred to as 5' to 3' (pronounced \"5 prime\" and \"3 prime\"). These numbers refer to the position of a carbon in the ribose sugar that makes DNA (*however, this knowledge is not relevant to the exercise*). \n",
    "DNA is antiparallel, meaning its strands travel in opposite directions. Demonstrated by our example sequences:\n",
    "\n",
    "5' - AGGGCCCTTTT - 3'  *Coding strand*\n",
    "<br>3' - TCCCGGGAAAA - 5'  *Template strand*\n",
    "\n",
    "So, the template strand you printed out above is backwards! Instead we want to see the template as:\n",
    "\n",
    "5' - AAAAGGGCCCT - 3'\n",
    "\n",
    "DNA is always presented in the 5' to 3' direction. There is a reversed() function in Python, but this is for lists, not strings. Use your code above to create the reverse complement strand. <br> *Hint: How you order anything in your python code is very important- look closely.*"
   ]
  },
  {
   "cell_type": "code",
   "execution_count": null,
   "metadata": {},
   "outputs": [],
   "source": []
  }
 ],
 "metadata": {
  "kernelspec": {
   "display_name": "Python 3",
   "language": "python",
   "name": "python3"
  },
  "language_info": {
   "codemirror_mode": {
    "name": "ipython",
    "version": 3
   },
   "file_extension": ".py",
   "mimetype": "text/x-python",
   "name": "python",
   "nbconvert_exporter": "python",
   "pygments_lexer": "ipython3",
   "version": "3.7.1"
  }
 },
 "nbformat": 4,
 "nbformat_minor": 2
}
