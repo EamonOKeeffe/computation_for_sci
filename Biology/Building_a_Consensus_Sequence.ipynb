{
 "cells": [
  {
   "cell_type": "markdown",
   "metadata": {},
   "source": [
    "# Hamming Distance and \"Relatedness\"\n",
    "\n",
    "This tutorial is adapted from the supplementary data of a study (with some creative licensing!) on leprosy in red squirrels from Ireland, England, Scotland, Brownsea Island, and Mexico (Avanzi et al 2016).\n",
    "<br>There are many computational programs for determining how evolutionarily related a group of species are, using methods like Bayesian statistics. However, these same methods can be applied to members of the same species, like strains of a bacteria or a virus.\n",
    "<br>In this tutorial, we will be using a simpler method, Hamming distance, which simply calculates the number of base pair differences between DNA samples. \n",
    "<br>For example:\n",
    "<br>ACGCCG\n",
    "<br>TCGACG\n",
    "<br>We would say these two sequences have a Hamming Distance of 2 (A and T differ in the first base position, and C and A differ in the fourth position). In general, the greater the Hamming distance, the more distantly related the sequences are.\n",
    "Given below are a sequence of variants from two leprosy isolates obtained from squirrels on Brownsea Island. Write code to calculate the Hamming distance between the two sequences that are of equal length."
   ]
  },
  {
   "cell_type": "code",
   "execution_count": 6,
   "metadata": {},
   "outputs": [
    {
     "data": {
      "text/html": [
       "<img src=\"https://media-cdn.tripadvisor.com/media/photo-s/10/84/95/ec/brownsea-island.jpg\" width=\"1000\" height=\"1000\"/>"
      ],
      "text/plain": [
       "<IPython.core.display.Image object>"
      ]
     },
     "execution_count": 6,
     "metadata": {},
     "output_type": "execute_result"
    }
   ],
   "source": [
    "from IPython.display import Image\n",
    "Image(url = \"https://media-cdn.tripadvisor.com/media/photo-s/10/84/95/ec/brownsea-island.jpg\", width = 1000, height = 1000)"
   ]
  },
  {
   "cell_type": "code",
   "execution_count": null,
   "metadata": {},
   "outputs": [],
   "source": [
    "Brw151E = \"CTTTACTCTAATATATACGGTCCGTAGTGCATCAGCAGAAAAA\"\n",
    "Brw1510 = \"CTTTACCCTAATATACACGGTCCGTGGTGCATCAGCAGAAAAA\""
   ]
  },
  {
   "cell_type": "code",
   "execution_count": 1,
   "metadata": {},
   "outputs": [
    {
     "data": {
      "text/html": [
       "<img src=\"https://scottishwildlifetrust.org.uk/wp-content/uploads/2016/09/Red-Squirrel-6-©-Ronnie-Stokes.jpg\" width=\"1000\" height=\"1000\"/>"
      ],
      "text/plain": [
       "<IPython.core.display.Image object>"
      ]
     },
     "execution_count": 1,
     "metadata": {},
     "output_type": "execute_result"
    }
   ],
   "source": [
    "from IPython.display import Image\n",
    "Image(url = \"https://scottishwildlifetrust.org.uk/wp-content/uploads/2016/09/Red-Squirrel-6-©-Ronnie-Stokes.jpg\", width = 1000, height = 1000)"
   ]
  },
  {
   "cell_type": "markdown",
   "metadata": {},
   "source": [
    "# Coming to a Consensus\n",
    "Let's look at some more sequences. The study analyzed leprosy in squirrels from Scotland, Ireland, and England as well (however, these sequences were not provided, so we will be using some hypotheticals instead). Remember, though something is from the same species, 0.1%-1.0% of its genome (all of the sequences of nucleotides/bases in an organism) can differ with other members of its group. Humans have 0.6% nucleotide base differences between one another, but this is across 3.2 billion bases, equating to about 20 million differences (variants) between you and the person sitting beside you! \n",
    "<br>When observing a large group of sequences, sometimes it is helpful to see what the \"average\" sequence would look like or the consensus. The consensus sequence is the order of the most frequent nucleotides in a group of sequences. Example below:<br>\n",
    "\n",
    "AGCTA<br>\n",
    "ACCAA<br>\n",
    "TGCTA<br>\n",
    "AGCAT<br>\n",
    "<br>\n",
    "A: 3 0 0 2 3<br>\n",
    "C: 0 1 4 0 0<br>\n",
    "G: 0 3 0 0 0<br>\n",
    "T: 1 0 0 2 1<br>\n",
    "<br>\n",
    "Consensus: AGCAA<br>\n",
    "\n",
    "By the end of this tutorial, you will create the code to produce the output above for the consensus of leprosy strains in Scotland, England, Mexico and Brownsea Island. Finding the most common variation in populations is extremely important, especially for developing medicinal targets and vaccine targets for diseases! Some variants may cause organisms to be weaker or stronger against specific medications, and it's important to identify how common these variants are.\n",
    "<br>Begin by defining a function that takes in a list of the sequences below and returns a list of 'A's at every position (like \"3 0 0 2 3\") in the four leprosy sequences below. \n",
    "<br>Context: The sequences are variant nucleotide bases (different from the \"worldwide\" consensus/reference sequence for leprosy)- these variants are scattered across the genome with thousands of nucleotides in between each other! All of the other nucleotides look exactly like the worldwide reference so we won't focus on them- only the variants below are important to us because they're different! These variants may have some important answers for how leprosy is evolving in these squirrels and maybe how to stop its spread.\n",
    "<br>Note: some bases are lowercase, meaning they fell below the significance threshold when being computed (not too confident that this is the base, but not relevant to this exercise!). However, make sure all of the bases are converted to uppercase (using the .uppercase() function) for this analysis ('a' and 'A' are not the same, meaing your function counting 'A's will not count 'a's!!!).\n",
    "<br> Hint: You need to create a list to count the A's at each position. So, begin by creating a list of 0's that is the full length of the sequences.  "
   ]
  },
  {
   "cell_type": "code",
   "execution_count": 13,
   "metadata": {},
   "outputs": [
    {
     "name": "stdout",
     "output_type": "stream",
     "text": [
      "AGCAA\n",
      "A: 3 0 0 2 3\n",
      "C: 0 1 4 0 0\n",
      "G: 0 3 0 0 0\n",
      "T: 1 0 0 2 1\n"
     ]
    }
   ],
   "source": [
    "ScLep = \"TGAGAtatTG\"\n",
    "MexLep = \"TGAAATATTG\"\n",
    "BrwLep = \"TcgGAaATTG\"\n",
    "EngLep = \"tGAcATAtTG\"\n",
    "\n"
   ]
  },
  {
   "cell_type": "markdown",
   "metadata": {},
   "source": [
    "Now, create another three functions that count the number of times G, C, and T appear at each position, just as done with A above. Like in the exercise above, each of the functions must take in the list of sequences and return a list of counts."
   ]
  },
  {
   "cell_type": "code",
   "execution_count": null,
   "metadata": {},
   "outputs": [],
   "source": []
  },
  {
   "cell_type": "markdown",
   "metadata": {},
   "source": [
    "# Printing the Matrix\n",
    "In order to print lists in a specific format, you can use the map() and .join() functions. map() takes in a list and performs a specific function on the list. Syntax below:\n",
    "*map(function, list_you_want_to_perform_function_on)*\n",
    "\n",
    "Then, the .join function joins together elements of a list with a specific character:\n",
    "*\"Character_of_interest\".join(list)*\n",
    "\n",
    "However, .join only works on lists with string elements. So, you will need to *map* the string function (\"str\") across the list elements before you can join them by a space \" \".\n",
    "\n",
    "Define a function that takes in the list of strings, passes the list through the previous four functions you created, and prints out the position-counts lists in a matrix.\n",
    "\n",
    "Hint: You may also want to *insert* the row names (A:, G:, C:, and T:)."
   ]
  },
  {
   "cell_type": "code",
   "execution_count": null,
   "metadata": {},
   "outputs": [],
   "source": []
  },
  {
   "cell_type": "markdown",
   "metadata": {},
   "source": [
    "# Find the Consensus Sequence\n",
    "Find the maximum count at each position and use this to form a consensus sequence. Define a consensus sequence function that uses the position-count lists from the previous functions and returns a consensus sequence string. "
   ]
  },
  {
   "cell_type": "code",
   "execution_count": null,
   "metadata": {},
   "outputs": [],
   "source": []
  },
  {
   "cell_type": "markdown",
   "metadata": {},
   "source": [
    "# The Origin of Leprosy in Irish Squirrels\n",
    "Below is a hypothetical variant sequence from a leprosy strain in Ireland, corresponding to the same variant sequences from Mexico, Scotland, England, and Brownsea Island. Write some code to demonstrate where this Irish sequence most likely originated from.\n",
    "Hint: This is asking which sequence the Irish sequence is **most related** to."
   ]
  },
  {
   "cell_type": "code",
   "execution_count": null,
   "metadata": {},
   "outputs": [],
   "source": [
    "IrLep = \"tGAcATAtTC\""
   ]
  }
 ],
 "metadata": {
  "kernelspec": {
   "display_name": "Python 3",
   "language": "python",
   "name": "python3"
  },
  "language_info": {
   "codemirror_mode": {
    "name": "ipython",
    "version": 3
   },
   "file_extension": ".py",
   "mimetype": "text/x-python",
   "name": "python",
   "nbconvert_exporter": "python",
   "pygments_lexer": "ipython3",
   "version": "3.7.1"
  }
 },
 "nbformat": 4,
 "nbformat_minor": 2
}
