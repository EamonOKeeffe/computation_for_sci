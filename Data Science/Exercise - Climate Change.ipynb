{
 "cells": [
  {
   "cell_type": "markdown",
   "metadata": {},
   "source": [
    "# Climate Change Exercise\n",
    "\n",
    "In this exercise we are going to use Python to investigate climate change. You will be given a dataset consisting of atmospheric CO$_2$ levels in ppm (parts per million) since 800,000 BC. CO$_2$ is a greenhouse gas which contributes to the greenhouse effect. Without greenhouse gases, the average temperature of Earth's surface would be quite chilly at around -18°C, instead of the much more pleasant current average of 15°C. \n",
    "\n",
    "Humans have been contributing more and more CO$_2$ to the atmosphere every year since the beginning of the Industrial Revolution. \n",
    "\n",
    "## Loading in the data\n",
    "The first thing we need to do is load in the data from its file. The code below accomplishes this for us."
   ]
  },
  {
   "cell_type": "code",
   "execution_count": 10,
   "metadata": {
    "collapsed": false
   },
   "outputs": [],
   "source": [
    "import pandas as pd\n",
    "\n",
    "co2_df = pd.read_csv('co2.csv')\n",
    "co2_vals = co2_df['co2ppm'].values.tolist()\n",
    "co2_years = co2_df['year'].values.tolist()"
   ]
  },
  {
   "cell_type": "markdown",
   "metadata": {},
   "source": [
    "## Getting a handle on our data\n",
    "\n",
    "Our data is now in the form of two lists `co2_vals` and `co2_years`. The first list, `co2_vals` contains the actual CO$_2$ values in ppm for a given year. The corresponding year is contained in the same entry of the `co2_years` list. \n",
    "\n",
    "Lets take a peek at what our data looks like. While we could just print out both lists in their entirety, it makes more sense to print only a few values, we don't want a long confusing output! \n",
    "\n",
    "Print the both the first and last 10 values of both the `co2_vals` and `co2_years` lists.\n",
    "## Solution"
   ]
  },
  {
   "cell_type": "code",
   "execution_count": null,
   "metadata": {
    "collapsed": false
   },
   "outputs": [],
   "source": []
  },
  {
   "cell_type": "markdown",
   "metadata": {},
   "source": [
    "## Visualising the data \n",
    "\n",
    "Having printed out some values from the lists you can hopefully see that the CO$_2$ value for 2018 was 408.52ppm, in 2017 it was 406.55ppm, and so on. Now we are going to plot the data. This should give us a much better idea of the overall story the data tells. \n",
    "\n",
    "Once you have plotted the data, comment on any interesting aspects of the plot you observe.\n",
    "\n",
    "***Your x-axis labels will overlap and not be very readable. To avoid this use `plt.xticks(rotation=90)` to rotate them by 90 degrees. Play around with different rotations by changing the value of rotations if you like.***\n",
    "\n",
    "## Solution"
   ]
  },
  {
   "cell_type": "code",
   "execution_count": 1,
   "metadata": {
    "collapsed": false
   },
   "outputs": [],
   "source": [
    "import matplotlib.pyplot as plt\n",
    "%matplotlib inline"
   ]
  },
  {
   "cell_type": "markdown",
   "metadata": {},
   "source": [
    "## Focusing on interesting aspects of the plot\n",
    "\n",
    "It seems to be clear from the plot that something out of the ordinary is happening in recent years. Lets investigate this further. We will plot the data from around the year 1600 AD to now. First, you will need to find the index of the element 1600 in the `co2_years` list, or if there is no element 1600, the year closest to it. \n",
    "\n",
    "Once you have found this index, you will need to slice both lists into two smaller lists, with the slice occuring around the year 1600. This should leave you with two sets of data, one pre-1600 and the other post-1600. \n",
    "\n",
    "To finish, plot the post-1600 data like you did in the last question. \n",
    "\n",
    "Do you think it was useful to plot this smaller dataset alone? Why/why not?\n",
    "\n",
    "## Solution"
   ]
  },
  {
   "cell_type": "code",
   "execution_count": null,
   "metadata": {
    "collapsed": false
   },
   "outputs": [],
   "source": []
  },
  {
   "cell_type": "markdown",
   "metadata": {},
   "source": [
    "## Highlighting human development on the graph\n",
    "\n",
    "Lets point out some important points in recent human development on the graph. The points we will add are: \n",
    "* The beginning of the Industrial Revolution - 1760\n",
    "* The birth of the world wide web - 1989\n",
    "\n",
    "Add vertical lines to your plot at the appropriate years and label them accordingly. \n",
    "\n",
    "***You can plot a vertical line at x=4 with plt.axvline(x=4)***\n",
    "\n",
    "***To give this line the label \"important line\" we make a slight modification and use plt.axvline(x=4, label='important line')***\n",
    "\n",
    "***To display the labels we have added on our graph we use plt.legend()***\n",
    "\n",
    "## Solution"
   ]
  },
  {
   "cell_type": "code",
   "execution_count": null,
   "metadata": {
    "collapsed": false
   },
   "outputs": [],
   "source": []
  },
  {
   "cell_type": "markdown",
   "metadata": {},
   "source": [
    "## Some statistics on the data\n",
    "\n",
    "Now we will calculate some statistics on the pre-1600 data, to put the data since 1600 in better perspective. First, ***given that you can find the maximum value of a list with `max(list)`,*** find the highest atmospheric CO$_2$ level before 1600. Print this maximum value.\n",
    "\n",
    "Next, find the average value of atmospheric CO$_2$ before the year 1600. Print this value.\n",
    "\n",
    "***It will be useful to know that you can find the sum of the values in a list called my_list with `sum(my_list)` and the number of values in a list with `len(my_list)`.***\n",
    "\n",
    "## Solution"
   ]
  },
  {
   "cell_type": "code",
   "execution_count": null,
   "metadata": {
    "collapsed": false
   },
   "outputs": [],
   "source": []
  },
  {
   "cell_type": "markdown",
   "metadata": {},
   "source": [
    "## Using this data to improve our plot\n",
    "\n",
    "Add lines to your graph to illustrate the maximum and the average you just found. \n",
    "\n",
    "Having done this analysis, what are your thoughts on this dataset? \n",
    "\n",
    "***You can plot a horizontal line with height 4 using `plt.axhline(y=4)`***\n",
    "\n",
    "***To make this more readable, you can change the colour of the lines and the style of the line drawn. For example, to draw a green dashed line we use: `plt.axhline(y=4, linestyle='dashed', color='g')` (Beware that 'dashed' is a specific name and you can't just type in whatever description you like and expect Python to interpret it!!)***\n",
    "\n",
    "***Also beware that the US spelling of \"color\" is used and not \"colour\"!***\n",
    "\n",
    "***To see full lists of colours and linestyles to choose from, see these links: ***\n",
    "\n",
    "***Colours: https://matplotlib.org/2.0.2/api/colors_api.html***\n",
    "\n",
    "***Linestyles: https://matplotlib.org/3.1.0/gallery/lines_bars_and_markers/linestyles.html***\n",
    "\n",
    "\n",
    "Should probably also point out the distinction between US and UK spelling of colour here. I imagine it will trip people up. \n",
    "\n",
    "\n",
    "## Solution"
   ]
  },
  {
   "cell_type": "code",
   "execution_count": null,
   "metadata": {
    "collapsed": true
   },
   "outputs": [],
   "source": []
  },
  {
   "cell_type": "markdown",
   "metadata": {},
   "source": [
    "# Questions\n",
    "\n",
    "* What knowledge would students need to complete this exercise? (Both programming knowledge and anything else like formulae/scientific facts)\n",
    "\n",
    "* How do you think first year students interested in a similar area of study to you would relate to this example? \n",
    "\n",
    "* Do you think this is an interesting example? \n",
    "\n",
    "* Do you think this example would highlight the usefulness of computational thinking and computational techniques to a first year student?\n",
    "\n",
    "* Comment on the difficulty of this exercise. What aspects of the exercise do you think students will find the most difficult? \n",
    "\n",
    "* How could you improve this exercise? \n",
    "\n",
    "* How could you extend this exercise to provide a more challenging example? \n",
    "\n",
    "* Can you think of a different example or examples which examines similar skills but sits in a different domain area? e.g. Something related to (say) biology. \n",
    "\n",
    "* Do you have any general comments on the assignment not covered above?\n",
    "\n",
    "* Do you have any general comments on this list of questions? "
   ]
  },
  {
   "cell_type": "code",
   "execution_count": null,
   "metadata": {
    "collapsed": true
   },
   "outputs": [],
   "source": []
  }
 ],
 "metadata": {
  "anaconda-cloud": {},
  "kernelspec": {
   "display_name": "Python [default]",
   "language": "python",
   "name": "python3"
  },
  "language_info": {
   "codemirror_mode": {
    "name": "ipython",
    "version": 3
   },
   "file_extension": ".py",
   "mimetype": "text/x-python",
   "name": "python",
   "nbconvert_exporter": "python",
   "pygments_lexer": "ipython3",
   "version": "3.5.2"
  }
 },
 "nbformat": 4,
 "nbformat_minor": 1
}
