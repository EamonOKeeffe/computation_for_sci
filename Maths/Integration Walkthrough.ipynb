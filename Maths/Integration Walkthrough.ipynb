{
 "cells": [
  {
   "cell_type": "markdown",
   "metadata": {},
   "source": [
    "# Integration Exercise\n",
    "\n",
    "In this exercise we will calculate an approximation to an integral of a function. \n",
    "\n",
    "***(Can do this by hardcoding the function in if they haven't met python functions yet, but it's probably much more ideal to do this after meeting functions.) This exercise could be built upon as the module progresses. Start off with plotting functions (add more beef to the early parts) and later in the module approximate integrals using the previous work. Also need to think about when/where(/if) to import numpy***\n",
    "\n",
    "Before we talk about integrals, we're going to get to grips with the function we want to integrate. To begin with, lets write a python function which evaluates the function\n",
    "\n",
    "$$f(x) = x^2 -5x + 14$$\n",
    "\n",
    "for a given value of $x$. "
   ]
  },
  {
   "cell_type": "code",
   "execution_count": 9,
   "metadata": {
    "collapsed": true
   },
   "outputs": [],
   "source": [
    "def f1(x):\n",
    "    return x**2 - 5*x + 14"
   ]
  },
  {
   "cell_type": "markdown",
   "metadata": {},
   "source": [
    "Now calculate the value of $f(247)$, and print the answer."
   ]
  },
  {
   "cell_type": "code",
   "execution_count": 10,
   "metadata": {
    "collapsed": false
   },
   "outputs": [
    {
     "name": "stdout",
     "output_type": "stream",
     "text": [
      "59788\n"
     ]
    }
   ],
   "source": [
    "print(f1(247))"
   ]
  },
  {
   "cell_type": "markdown",
   "metadata": {},
   "source": [
    "Next we should take a look at this function. This is a good way to get a feel for how it behaves. Lets plot the function between the values of $x = -5$ and $x=20$."
   ]
  },
  {
   "cell_type": "code",
   "execution_count": 23,
   "metadata": {
    "collapsed": false
   },
   "outputs": [
    {
     "data": {
      "image/png": "[encoded data removed]",
      "text/plain": [
       "<matplotlib.figure.Figure at 0x117b46a58>"
      ]
     },
     "metadata": {},
     "output_type": "display_data"
    }
   ],
   "source": [
    "import numpy as np\n",
    "import matplotlib.pyplot as plt\n",
    "%matplotlib inline\n",
    "\n",
    "#first we need to generate values of x between -20 and 20\n",
    "x = np.linspace(-5, 20, 500)\n",
    "#now we pass these values of x to the function f1, to obtain the y values\n",
    "y = f1(x)\n",
    "#now we plot the function\n",
    "plt.plot(x, y)\n",
    "#set the title of the plot to \"f(x)\"\n",
    "plt.title('f(x)')\n",
    "#label the x and y axes appropriately\n",
    "plt.xlabel('x')\n",
    "plt.ylabel('y')\n",
    "plt.grid(True)\n",
    "plt.show()"
   ]
  },
  {
   "cell_type": "markdown",
   "metadata": {},
   "source": [
    "Great! Now we can see what our function looks like! We should have expected this plot, if we notice that our function is a quadratic with a positive coefficient in front of the $x^2$ term. \n",
    "\n",
    "The next thing we are going to do is calculate the following integral:\n",
    "\n",
    "$$\\int_{5}^{15} f(x) dx = \\int_{5}^{15} x^2 - 5x + 14 dx$$\n",
    "\n",
    "First recall that an integral is *the area under the curve.* \n",
    "\n",
    "***Add in plot here of relevant shaded region, can generate it with pyplot but just attach an image.*** \n",
    "***Then consider also adding in a plot with rectangles approximating the integral to highlight the method. Alternatively, I could restrict the plot to just the bounds of the integral, and then the entire bottom half of the image is the area, perhaps this is clearer?***\n",
    "\n",
    "How are we going to get the area under this curve? Well, while finding the area of a region bounded by a curve might be difficult, we *are* able to find the area of a rectangle pretty easily, that's just the width multiplied by the height. We could put some rectangles under the curve, and calculate the area of those instead. All we'll have to do is calculate the area of each individual rectangle and then add them all up. That would at least give us some estimate of the area we desire.\n",
    "\n",
    "To make life as simple as possible, we'll make the width of all of our rectangles equal. The total width of area we are trying to calculate is $15 - 5 = 10$. Lets start with rectangles which have a width of 2. This means we need 5 rectangles to fill our interval. \n",
    "\n",
    "The only other thing we need to figure out is the height of our rectangles. These heights shouldn't all be the same, they should in some way follow the function. Lets start by making the height of each rectangle the *value of the function at the left side of the rectangle.* (Note that we are making a choice here. We could also choose the right side of the rentangle, or even the middle of the rectangle, which turns out to be a better choice for reasons beyond the scope of this module).\n",
    "\n",
    "Now that we have decided what the height of each rectangle should be, lets calculate our estimate!"
   ]
  },
  {
   "cell_type": "code",
   "execution_count": 19,
   "metadata": {
    "collapsed": false
   },
   "outputs": [
    {
     "name": "stdout",
     "output_type": "stream",
     "text": [
      "580.0\n"
     ]
    }
   ],
   "source": [
    "#set the number of rectangles\n",
    "n = 5\n",
    "#calculate the corresponding width\n",
    "width = (15 - 5)/n\n",
    "\n",
    "#next we need to generate a list of the positions of the rectangles, so we can work out the height of each rectangle\n",
    "#note that if we have 5 renctangles, we need 6 points //// fence and fenceposts discussion prior???\n",
    "rect_pos = np.linspace(5, 15, n+1)\n",
    "\n",
    "#now we use these positions to calculate the height of each rectangle\n",
    "heights = f1(rect_pos)\n",
    "\n",
    "area = 0\n",
    "for i in heights[:-1]:\n",
    "    area += i\n",
    "area *= width\n",
    "\n",
    "print(area)"
   ]
  },
  {
   "cell_type": "markdown",
   "metadata": {},
   "source": [
    "If we add more rectangles, we could get a better estimate! Lets write a function which takes as input the number of rectangles we want to use in the calculation and returns an estimate of the area using that many rectangles. You shouldn't have to change the code from the previous step much to achieve this!"
   ]
  },
  {
   "cell_type": "code",
   "execution_count": 20,
   "metadata": {
    "collapsed": true
   },
   "outputs": [],
   "source": [
    "def estimate_area(n):\n",
    "    #calculate the width of our rectangles\n",
    "    width = (15-5)/n\n",
    "    \n",
    "    #create a list of the x coordinates of the rectangles' sides\n",
    "    rect_pos = np.linspace(5, 15, n+1)\n",
    "    #work out the height of the function to be integrated at each of these points\n",
    "    heights = f1(rect_pos)\n",
    "    \n",
    "    area = 0\n",
    "    #sum up all of these heights except for the last one\n",
    "    for i in heights[:-1]:\n",
    "        area += i\n",
    "    #the total area is this sum of heights times the width\n",
    "    return area * width"
   ]
  },
  {
   "cell_type": "markdown",
   "metadata": {},
   "source": [
    "Now lets try *a lot* more rectangles and see what we get! "
   ]
  },
  {
   "cell_type": "code",
   "execution_count": 21,
   "metadata": {
    "collapsed": false
   },
   "outputs": [
    {
     "name": "stdout",
     "output_type": "stream",
     "text": [
      "722.5835\n"
     ]
    }
   ],
   "source": [
    "print(estimate_area(1000))"
   ]
  },
  {
   "cell_type": "markdown",
   "metadata": {},
   "source": [
    "We could calculate the exact value of this integral by hand to compare our estimate with the actual area. \n",
    "\n",
    "$$\\int_5^{15} x^2 - 5x +14 dx = \\bigg{(}\\frac{x^3}{3} - \\frac{5}{2}x^2 + 14x \\bigg{)}\\Bigg{|}_{x=5}^{x=15} = \\frac{15^3}{3} - \\frac{5}{2}15^2 + 14(15) - \\bigg(\\frac{5^3}{3} - \\frac{5}{2}5^2 + 14(5) \\bigg) = \\frac{2170}{3} \\approx 723.33$$\n",
    "\n",
    "Lets try *even more* rectangles."
   ]
  },
  {
   "cell_type": "code",
   "execution_count": 22,
   "metadata": {
    "collapsed": false
   },
   "outputs": [
    {
     "name": "stdout",
     "output_type": "stream",
     "text": [
      "723.258335\n"
     ]
    }
   ],
   "source": [
    "print(estimate_area(10000))"
   ]
  },
  {
   "cell_type": "code",
   "execution_count": null,
   "metadata": {
    "collapsed": true
   },
   "outputs": [],
   "source": []
  }
 ],
 "metadata": {
  "anaconda-cloud": {},
  "kernelspec": {
   "display_name": "Python [default]",
   "language": "python",
   "name": "python3"
  },
  "language_info": {
   "codemirror_mode": {
    "name": "ipython",
    "version": 3
   },
   "file_extension": ".py",
   "mimetype": "text/x-python",
   "name": "python",
   "nbconvert_exporter": "python",
   "pygments_lexer": "ipython3",
   "version": "3.5.2"
  }
 },
 "nbformat": 4,
 "nbformat_minor": 1
}
