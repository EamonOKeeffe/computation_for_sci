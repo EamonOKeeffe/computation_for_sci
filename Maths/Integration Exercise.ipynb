{
 "cells": [
  {
   "cell_type": "markdown",
   "metadata": {},
   "source": [
    "# Integration Exercise\n",
    "\n",
    "In this exercise we will use Python to calculate the approximate value of the area under a curve. \n",
    "\n",
    "Before we talk about integrals, we're going to get to grips with the function we're going to work with. To begin with, write a Python function which evaluates the function\n",
    "\n",
    "$$f(x) = x^2 -5x + 14$$\n",
    "\n",
    "for a given value of $x$. \n",
    "\n",
    "## Solution"
   ]
  },
  {
   "cell_type": "code",
   "execution_count": 9,
   "metadata": {
    "collapsed": true
   },
   "outputs": [],
   "source": []
  },
  {
   "cell_type": "markdown",
   "metadata": {},
   "source": [
    "Now calculate the value of $f(247)$, and print the answer.\n",
    "\n",
    "## Solution"
   ]
  },
  {
   "cell_type": "code",
   "execution_count": null,
   "metadata": {
    "collapsed": false
   },
   "outputs": [],
   "source": []
  },
  {
   "cell_type": "markdown",
   "metadata": {},
   "source": [
    "Next we are going to plot the function so that we have an idea what it looks like. Plot the function between the values of $x = -5$ and $x=20$.\n",
    "\n",
    "## Solution"
   ]
  },
  {
   "cell_type": "code",
   "execution_count": 1,
   "metadata": {
    "collapsed": false
   },
   "outputs": [],
   "source": [
    "import numpy as np\n",
    "import matplotlib.pyplot as plt\n",
    "%matplotlib inline\n"
   ]
  },
  {
   "cell_type": "markdown",
   "metadata": {},
   "source": [
    "Great! Now we can see what our function looks like! We should have expected this plot, if we notice that our function is a quadratic with a positive coefficient in front of the $x^2$ term. \n",
    "\n",
    "The next thing we are going to do is calculate the following integral:\n",
    "\n",
    "$$\\int_{5}^{15} f(x) dx = \\int_{5}^{15} x^2 - 5x + 14 dx$$\n",
    "\n",
    "First recall that an integral is *the area under the curve.* \n",
    "\n",
    "How are we going to get the area under this curve? Well, while finding the area of a region bounded by a curve might be difficult, we *are* able to find the area of a rectangle pretty easily, that's just the width multiplied by the height. We could put some rectangles under the curve, and calculate the area of those instead. All we'll have to do is calculate the area of each individual rectangle and then add them all up. That would at least give us some estimate of the area we desire.\n",
    "\n",
    "To make life as simple as possible, we'll make the width of all of our rectangles equal. The total width of area we are trying to calculate is $15 - 5 = 10$. Lets start with rectangles which have a width of 2. This means we need 5 rectangles to fill our interval. \n",
    "\n",
    "The only other thing we need to figure out is the height of our rectangles. These heights shouldn't all be the same, they should in some way follow the function. Lets start by making the height of each rectangle the *value of the function at the left side of the rectangle.* (Note that we are making a choice here. We could also choose the right side of the rentangle, or even the middle of the rectangle, which turns out to be a better choice for reasons beyond the scope of this module).\n",
    "\n",
    "Now that we have decided what the height of each rectangle should be, lets calculate our estimate!\n",
    "\n",
    "Calculate the area using 5 rectangles to make your approximation.\n",
    "\n",
    "## Solution"
   ]
  },
  {
   "cell_type": "code",
   "execution_count": null,
   "metadata": {
    "collapsed": false
   },
   "outputs": [],
   "source": []
  },
  {
   "cell_type": "markdown",
   "metadata": {},
   "source": [
    "If we add more rectangles, we could get a better estimate! Lets write a function which takes as input the number of rectangles we want to use in the calculation and returns an estimate of the area using that many rectangles. You shouldn't have to change the code from the previous step much to achieve this!\n",
    "\n",
    "## Solution"
   ]
  },
  {
   "cell_type": "code",
   "execution_count": 20,
   "metadata": {
    "collapsed": true
   },
   "outputs": [],
   "source": []
  },
  {
   "cell_type": "markdown",
   "metadata": {},
   "source": [
    "Now lets try *a lot* more rectangles and see what we get! Try using 1000 rectangles and calculate the area under the curve.\n",
    "\n",
    "## Solution"
   ]
  },
  {
   "cell_type": "code",
   "execution_count": 21,
   "metadata": {
    "collapsed": false
   },
   "outputs": [
    {
     "name": "stdout",
     "output_type": "stream",
     "text": [
      "722.5835\n"
     ]
    }
   ],
   "source": []
  },
  {
   "cell_type": "markdown",
   "metadata": {},
   "source": [
    "We could calculate the exact value of this integral by hand to compare our estimate with the actual area. \n",
    "\n",
    "$$\\int_5^{15} x^2 - 5x +14 dx = \\bigg{(}\\frac{x^3}{3} - \\frac{5}{2}x^2 + 14x \\bigg{)}\\Bigg{|}_{x=5}^{x=15} = \\frac{15^3}{3} - \\frac{5}{2}15^2 + 14(15) - \\bigg(\\frac{5^3}{3} - \\frac{5}{2}5^2 + 14(5) \\bigg) = \\frac{2170}{3} \\approx 723.33$$\n",
    "\n",
    "Lets try *even more* rectangles. Approximate the area again with 10,000 rectangles. Compare all of your approximations with the value we just calculated and with each other. What do you notice? \n",
    "\n",
    "## Solution"
   ]
  },
  {
   "cell_type": "code",
   "execution_count": null,
   "metadata": {
    "collapsed": false
   },
   "outputs": [],
   "source": []
  },
  {
   "cell_type": "code",
   "execution_count": null,
   "metadata": {
    "collapsed": true
   },
   "outputs": [],
   "source": []
  }
 ],
 "metadata": {
  "anaconda-cloud": {},
  "kernelspec": {
   "display_name": "Python [default]",
   "language": "python",
   "name": "python3"
  },
  "language_info": {
   "codemirror_mode": {
    "name": "ipython",
    "version": 3
   },
   "file_extension": ".py",
   "mimetype": "text/x-python",
   "name": "python",
   "nbconvert_exporter": "python",
   "pygments_lexer": "ipython3",
   "version": "3.5.2"
  }
 },
 "nbformat": 4,
 "nbformat_minor": 1
}
